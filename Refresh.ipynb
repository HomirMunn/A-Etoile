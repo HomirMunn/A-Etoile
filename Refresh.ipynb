{
 "cells": [
  {
   "cell_type": "markdown",
   "metadata": {},
   "source": [
    "<h1 style=\"color:#5A8E00; font-weight: bold;\">\n",
    "Algorithme A\\*\n",
    "</h1>\n",
    "<br>Nous allons de ce pas nous immerger dans une application de l'algorithme A\\*. Le but du script qui suit va être de déterminer les affectations qui minimisent le coût total d'une opération à partir d'un tableau à 2 dimensions dans lequel sont représentés les-dits coûts."
   ]
  },
  {
   "cell_type": "markdown",
   "metadata": {},
   "source": [
    "On importe numpy pour réaliser des opérations plus vite que l'éclair, pandas pour afficher les résultats de manière élégante, ipywidgets pour intéragir de manière agréable avec ce notebook et heapq qui n'est autre qu'une implémentation des Tas (qui vont nous permettre de gagner un peu / pas mal de temps de calcul).\n",
    "<br>Un petit coup d'oeil sur la documentation de heapq et notamment des fonctions <b style=\"color:#DB5B30\">heappush</b> et <b style=\"color:#DB5B30\">heappop</b> ne fait pas de mal : https://docs.python.org/3/library/heapq.html"
   ]
  },
  {
   "cell_type": "code",
   "execution_count": 1,
   "metadata": {
    "collapsed": true
   },
   "outputs": [],
   "source": [
    "import numpy as np\n",
    "import pandas as pd\n",
    "import ipywidgets as widgets\n",
    "from heapq import heappush, heappop"
   ]
  },
  {
   "cell_type": "markdown",
   "metadata": {},
   "source": [
    "Ci-dessous sont les différentes heuristiques que nous avons trouvées. Chacune des fonctions pour le calcul de h prend donc en paramètre le noeud dont on doit calculer h et la table des coûts.\n",
    "<br>Chacune des fonctions commence de la même manière. Tout d'abord si le noeud est un <b style=\"color:#DB5B30\">but</b> alors <b style=\"color:#DB5B30\">h=0</b> (car le cout du chemin optimal d'un noeud à lui même est de 0). Ensuite on isole sur la table des coûts les possible chemins restant à parcourir.\n",
    "<br><b style=\"color:#DB5B30\">Par exemple</b> si la matrice de coût est :\n",
    "<table style=\"margin-left:0;font-family:'Arial'\">\n",
    "  <tr style=\"background-color:white\">\n",
    "    <td style=\"border: 1px solid black; border-collapse: collapse; width:30px; height:30px; text-align:center;\">2</td>\n",
    "    <td style=\"border: 1px solid black; border-collapse: collapse; width:30px; height:30px; text-align:center;\">8</td>\n",
    "    <td style=\"border: 1px solid black; border-collapse: collapse; width:30px; height:30px; text-align:center;\">13</td>\n",
    "  </tr>\n",
    "  <tr style=\"background-color:white\">\n",
    "    <td style=\"border: 1px solid black; border-collapse: collapse; width:30px; height:30px; text-align:center;\">15</td>\n",
    "    <td style=\"border: 1px solid black; border-collapse: collapse; width:30px; height:30px; text-align:center;\">1</td>\n",
    "    <td style=\"border: 1px solid black; border-collapse: collapse; width:30px; height:30px; text-align:center;\">2</td>\n",
    "  </tr>\n",
    "  <tr style=\"background-color:white\">\n",
    "    <td style=\"border: 1px solid black; border-collapse: collapse; width:30px; height:30px; text-align:center;\">11</td>\n",
    "    <td style=\"border: 1px solid black; border-collapse: collapse; width:30px; height:30px; text-align:center;\">9</td>\n",
    "    <td style=\"border: 1px solid black; border-collapse: collapse; width:30px; height:30px; text-align:center;\">13</td>\n",
    "  </tr>\n",
    "</table>\n",
    "<br>Et que nous sommes dans un noeud de profondeur 1 qui a eu comme première affectation 2 alors on garde seulement les lignes suivantes et on supprime toutes les colonnes qui sont déjà affectées, dans ce cas-ci seulement la colonne numéro 2.\n",
    "<table style=\"margin-left:0;font-family:'Arial'\">\n",
    "  <tr style=\"background-color:white\">\n",
    "    <td style=\"background-color:#B7B7B7; border: 1px solid black; border-collapse: collapse; width:30px; height:30px; text-align:center;\">2</td>\n",
    "    <td style=\"background-color:#B7B7B7; border: 1px solid black; border-collapse: collapse; width:30px; height:30px; text-align:center;\">8</td>\n",
    "    <td style=\"background-color:#B7B7B7; border: 1px solid black; border-collapse: collapse; width:30px; height:30px; text-align:center;\">13</td>\n",
    "  </tr>\n",
    "  <tr style=\"background-color:white\">\n",
    "    <td style=\"border: 1px solid black; border-collapse: collapse; width:30px; height:30px; text-align:center;\">15</td>\n",
    "    <td style=\"border: 1px solid black; border-collapse: collapse; width:30px; height:30px; text-align:center;\">1</td>\n",
    "    <td style=\"background-color:#B7B7B7; border: 1px solid black; border-collapse: collapse; width:30px; height:30px; text-align:center;\">2</td>\n",
    "  </tr>\n",
    "  <tr style=\"background-color:white\">\n",
    "    <td style=\"border: 1px solid black; border-collapse: collapse; width:30px; height:30px; text-align:center;\">11</td>\n",
    "    <td style=\"border: 1px solid black; border-collapse: collapse; width:30px; height:30px; text-align:center;\">9</td>\n",
    "    <td style=\"background-color:#B7B7B7; border: 1px solid black; border-collapse: collapse; width:30px; height:30px; text-align:center;\">13</td>\n",
    "  </tr>\n",
    "</table>\n",
    "<br>Il nous reste donc la table suivante :\n",
    "<table style=\"margin-left:0;font-family:'Arial'\">\n",
    "  <tr style=\"background-color:white\">\n",
    "    <td style=\"border: 1px solid black; border-collapse: collapse; width:30px; height:30px; text-align:center;\">15</td>\n",
    "    <td style=\"border: 1px solid black; border-collapse: collapse; width:30px; height:30px; text-align:center;\">1</td>\n",
    "  </tr>\n",
    "  <tr style=\"background-color:white\">\n",
    "    <td style=\"border: 1px solid black; border-collapse: collapse; width:30px; height:30px; text-align:center;\">11</td>\n",
    "    <td style=\"border: 1px solid black; border-collapse: collapse; width:30px; height:30px; text-align:center;\">9</td>\n",
    "  </tr>\n",
    "</table>\n",
    "<br>C'est ici que les heuristiques diffèrent. La première, somme_des_min_des_lignes, calcule comme son nom l'indique la somme des minimaux de chaque ligne. Dans notre exemple :\n",
    "<table style=\"margin-left:0;font-family:'Arial'\">\n",
    "  <tr style=\"background-color:white\">\n",
    "    <td style=\"border: 1px solid black; border-collapse: collapse; width:30px; height:30px; text-align:center;\">15</td>\n",
    "    <td style=\"background-color:#FFA468; border: 1px solid black; border-collapse: collapse; width:30px; height:30px; text-align:center;\">1</td>\n",
    "  </tr>\n",
    "  <tr style=\"background-color:white\">\n",
    "    <td style=\"border: 1px solid black; border-collapse: collapse; width:30px; height:30px; text-align:center;\">11</td>\n",
    "    <td style=\"background-color:#FFA468; border: 1px solid black; border-collapse: collapse; width:30px; height:30px; text-align:center;\">9</td>\n",
    "  </tr>\n",
    "</table>\n",
    "<span style=\"background-color:#D5BAD6\">h = 1 + 9 = 10</span>\n",
    "<br><br>La seconde heuristique, somme_des_min_des_colonnes, calcule la somme des minimaux de chaque colonne. Dans notre exemple :\n",
    "<table style=\"margin-left:0;font-family:'Arial'\">\n",
    "  <tr style=\"background-color:white\">\n",
    "    <td style=\"border: 1px solid black; border-collapse: collapse; width:30px; height:30px; text-align:center;\">15</td>\n",
    "    <td style=\"background-color:#FFA468; border: 1px solid black; border-collapse: collapse; width:30px; height:30px; text-align:center;\">1</td>\n",
    "  </tr>\n",
    "  <tr style=\"background-color:white\">\n",
    "    <td style=\"background-color:#FFA468; border: 1px solid black; border-collapse: collapse; width:30px; height:30px; text-align:center;\">11</td>\n",
    "    <td style=\"border: 1px solid black; border-collapse: collapse; width:30px; height:30px; text-align:center;\">9</td>\n",
    "  </tr>\n",
    "</table>\n",
    "<span style=\"background-color:#D5BAD6\">h = 11 + 1 = 12</span>\n",
    "<br><br>La troisème et dernière heuristique calcul tout simplement le maximum de ces deux valeurs, c'est à dire dans ce cas-ci :\n",
    "<br><span style=\"background-color:#D5BAD6\">h = max(10, 12) = 12</span>"
   ]
  },
  {
   "cell_type": "code",
   "execution_count": 2,
   "metadata": {
    "collapsed": true
   },
   "outputs": [],
   "source": [
    "#NB : np.delete(x, [0, 8], 1) va supprimer du tableau x les indices 0 et 8 de l'axe 1 du tableau\n",
    "#l'axe 1 représente les colonnes tu tableau\n",
    "\n",
    "#np.delete(couts[noeud.p:], noeud.affectations, 1) renvoie donc un tableau qui supprime\n",
    "#les colonnes déjà affectés du tableau de couts[p:]\n",
    "#on a donc un tableau de couts sans les colonnes déjà affectés et avec les lignes qui restent à affecter\n",
    "\n",
    "#NB 2 : np.amin(x, 1) renvoie la liste des minimum des lignes de x\n",
    "\n",
    "def somme_des_min_des_lignes(noeud, couts):\n",
    "    if noeud.estBut():\n",
    "        return 0\n",
    "    temp = np.delete(couts[noeud.p:], noeud.affectations, 1)\n",
    "    return np.amin(temp, 1).sum()\n",
    "\n",
    "def somme_des_min_des_colonnes(noeud, couts):\n",
    "    if noeud.estBut():\n",
    "        return 0\n",
    "    temp = np.delete(couts[noeud.p:], noeud.affectations, 1)\n",
    "    return np.amin(temp, 0).sum()\n",
    "\n",
    "def max_des_deux(noeud, couts):\n",
    "    if noeud.estBut():\n",
    "        return 0\n",
    "    temp = np.delete(couts[noeud.p:], noeud.affectations, 1)\n",
    "    return max(np.amin(temp, 1).sum(), np.amin(temp, 0).sum())\n",
    "\n",
    "calculer_h = somme_des_min_des_lignes"
   ]
  },
  {
   "cell_type": "markdown",
   "metadata": {},
   "source": [
    "Nous vous proposons ci-dessous de choisir laquelle des heuristiques utiliser pour l'algorithme (et ceci avec une interface sympatoche et dynamique). Toutefois si l'interface ne marche pas (ce qui peut arriver), il vous faudra affecter manuellement la fonction <b style=\"color:#DB5B30\">calculer_h</b> et ce en rentrant dans une cellule :\n",
    "<br><span style=\"color:blue\">set_heuristique</span>(<span style=\"color:#BA2121\">'Somme des min des lignes'</span> OU <span style=\"color:#BA2121\">'Somme des min des colonnes'</span> OU <span style=\"color:#BA2121\">'Max des deux'</span>)\n",
    "<br><br>Mais à priori l'interface devrait fonctionner... Rien de bien intéressant dans la cellule ci-dessous du coup (mais à exécuter pour faire le choix de l'heuristique)."
   ]
  },
  {
   "cell_type": "code",
   "execution_count": 3,
   "metadata": {},
   "outputs": [
    {
     "data": {
      "application/vnd.jupyter.widget-view+json": {
       "model_id": "fac912dac89a42c784c3e7947a544f0e"
      }
     },
     "metadata": {},
     "output_type": "display_data"
    }
   ],
   "source": [
    "def set_heuristique(heuristique):\n",
    "    global calculer_h\n",
    "    if heuristique == 'Somme des min des lignes':\n",
    "        calculer_h = somme_des_min_des_lignes\n",
    "    elif heuristique == 'Somme des min des colonnes':\n",
    "        calculer_h = somme_des_min_des_colonnes\n",
    "    else:\n",
    "        calculer_h = max_des_deux\n",
    "\n",
    "w = widgets.Dropdown(\n",
    "    options=['Somme des min des lignes', 'Somme des min des colonnes', 'Max des deux'],\n",
    "    description=\"Choix de l'heuristique :\")\n",
    "try:\n",
    "    w.style.button_width = '250px'\n",
    "    w.style.description_width = '150px'\n",
    "except:\n",
    "    pass\n",
    "widgets.interact(set_heuristique, heuristique=w);"
   ]
  },
  {
   "cell_type": "markdown",
   "metadata": {},
   "source": [
    "La classe Noeud ci-après représente une bonne partie de l'algorithme et mérite quelques éclaircissements. Nous vons invitons tout d'abord à jeter un oeil à cette dernière afin d'en notifier les principaux attributs et fonctions.\n",
    "\n",
    "<u style=\"color:#5A8E00; font-size:16px\">Attributs :</u>\n",
    "* <b style=\"color:#DB5B30\">n :</b> La profondeur maximale du graphe. Si le tableau de coûts est de dimensions m\\*m alors n=m\n",
    "* <b style=\"color:#DB5B30\">g :</b> Le coût d'un chemin optimal du premier noeud à celui-ci (du noeud de profondeur 0 au noeud de profondeur p)\n",
    "* <b style=\"color:#DB5B30\">p :</b> La profondeur du noeud, c'est à dire le nombre d'ancêtres que possède ce noeud. Par exemple le premier noeud est de profondeur 0, et un noeud but est de profondeur n.\n",
    "* <b style=\"color:#DB5B30\">affectations :</b> Une liste contenant toutes les affectations \"qui sont faîtes\" pour ce noeud. Pour un noeud but on a une liste d'affectations complète qui décrira une situation d'allocations finie. Notre algorithme devant se terminer toujours par des affectations optimales, le dernier noeud choisi possèdera donc la liste des allocations optimales.\n",
    "* <b style=\"color:#DB5B30\">h :</b> L'heuristique du noeud. C'est une estimation du coût chemin optimal de ce noeud (de profondeur p) à un but (de profondeur n). Comme nous voulons trouver le chemin optimal de 0 à n, nous devons respecter la propriété $h(p) \\leq h*(p)$ où h*(p) est le coût du chemin optimal de ce noeud à un but.\n",
    "* <b style=\"color:#DB5B30\">f :</b> Estimation du coût d'un chemin optimal de 0 à un but en passant par ce noeud. C'est donc ce paramètre là que l'on cherche à minimiser. Quand l'algorithme se termine, on veut que le noeud but sur lequel il se termine soit celui avec le plus petit f possible. Ce paramètre va donc nous servir à ordonner les noeuds.\n",
    "\n",
    "<u style=\"color:#5A8E00; font-size:16px\">Fonctions :</u>\n",
    "* <b style=\"color:#DB5B30\">estBut(self) :</b> Comme son nom l'indique cette fonction renvoie un booléen : True si le noeud est un but, False sinon. On exploite ici le fait que si le noeud est un but, alors sa profondeur est égale à la profondeur maximale du GRP.\n",
    "* <b style=\"color:#DB5B30\">developpe(self, calculer_h, couts) :</b> Cette fonction renvoie une liste de noeud développés à partir de celui sur lequel la fonction est appelée. Dans cette fonction on parcours tout simplement toutes les affectations possibles de faire depuis ce noeud et on crée les noeuds qui correspondent à toutes ces affecations.\n",
    "* <b style=\"color:#DB5B30\">\\__lt__(self, other) :</b> va permettre de \"classer\" les objets Noeud (leur donne un ordre) ce qui va être très pratique pour l'implémentation du Tas. Un Noeud est \"plus petit\" qu'un autre si son **f** est plus petit que celui de l'autre."
   ]
  },
  {
   "cell_type": "code",
   "execution_count": 4,
   "metadata": {
    "collapsed": true
   },
   "outputs": [],
   "source": [
    "class Noeud:\n",
    "    def __init__(self, n, calculer_h, couts, g=0, p=0, affectations=list()):\n",
    "        self.n = n\n",
    "        self.g = g\n",
    "        self.p = p\n",
    "        self.affectations = affectations\n",
    "        self.h = calculer_h(self, couts)\n",
    "        self.f = self.g + self.h\n",
    "    \n",
    "    def estBut(self):\n",
    "        return self.p == self.n\n",
    "    \n",
    "    def developpe(self, calculer_h, couts):\n",
    "        heritiers = list()\n",
    "        \n",
    "        for i, cout in enumerate(couts[self.p]):\n",
    "            if i not in self.affectations:\n",
    "                heritiers.append(Noeud(self.n, calculer_h, couts, g=self.g+cout, p=self.p+1, affectations=self.affectations+[i]))\n",
    "        \n",
    "        return heritiers\n",
    "    \n",
    "    def __lt__(self, other):\n",
    "        return self.f < other.f"
   ]
  },
  {
   "cell_type": "markdown",
   "metadata": {},
   "source": [
    "<h3 style=\"color:#5A8E00; font-weight: bold;\">Enfin, la progression !</h3>\n",
    "<br>Nous avons suivi l'algorithme proposé par Nils John Nilsson. Cependant nous avons choisi un Tas plutôt qu'une liste pour la représentation d'OUVERT, en effet à chaque étape de la boucle, avec une liste, nous devions chercher le plus petit élément d'OUVERT ce qui était donc en O(k), k étant le nombre d'éléments dans OUVERT et pouvant rapidemment atteindre un nombre assez grand. Avec un Tas, il nous suffit d'ajouter chaque Noeud à ouvert en complexité log(k). Et on a à chaque étape de la boucle au plus n Noeud créés, c'est donc en O(n*log(k)) avec n << k.\n",
    "\n",
    "Il est à noter que nous n'implémentons pas la liste FERME car notre GRP est un graphe sans cycle.\n",
    "\n",
    "1. Tout premièrement créons une matrice <b style=\"color:#DB5B30\">coût</b> aléatoirement.\n",
    "2. Puis posons n = la longeur de coût, c'est la profondeur maximale du GRP.\n",
    "3. Comme indiqué par M. Nilsson, mettons dans un Tas appelée OUVERT le sommet de départ du GRP\n",
    "4. Ensuite bouclons tant que OUVERT n'est pas vide.\n",
    "5. On prend le premier élément du Tas (le plut petit) et on l'en enlève (fonction <b style=\"color:#DB5B30\">heappop</b>).\n",
    "6. Si c'est un but on termine la procèdure avec succès.\n",
    "7. On développe le noeud précédemment choisi et on met les noeuds résultants de cette opération dans OUVERT."
   ]
  },
  {
   "cell_type": "code",
   "execution_count": 5,
   "metadata": {
    "collapsed": true
   },
   "outputs": [],
   "source": [
    "couts = np.random.randint(1000, size=(10, 10))\n",
    "\n",
    "n = len(couts)\n",
    "OUVERT = [Noeud(n, calculer_h, couts)]\n",
    "\n",
    "while len(OUVERT) > 0:\n",
    "    \n",
    "    noeud = heappop(OUVERT)\n",
    "    \n",
    "    if noeud.estBut():\n",
    "        break\n",
    "    \n",
    "    for heritier in noeud.developpe(calculer_h, couts):\n",
    "        heappush(OUVERT, heritier)"
   ]
  },
  {
   "cell_type": "markdown",
   "metadata": {},
   "source": [
    "On a donc à la fin de l'exécution de l'algorithme l'ensemble des affectations dans noeud.affectations"
   ]
  },
  {
   "cell_type": "code",
   "execution_count": 6,
   "metadata": {},
   "outputs": [
    {
     "name": "stdout",
     "output_type": "stream",
     "text": [
      "[6, 9, 8, 7, 5, 2, 4, 3, 1, 0]\n"
     ]
    }
   ],
   "source": [
    "print(noeud.affectations)"
   ]
  },
  {
   "cell_type": "markdown",
   "metadata": {},
   "source": [
    "Cette représentation étant assez peu lisible nous avons codé une fonction <span style=\"color:blue\">print_affectations</span> qui affiche les résultats sous une forme plus esthétique."
   ]
  },
  {
   "cell_type": "code",
   "execution_count": 7,
   "metadata": {},
   "outputs": [
    {
     "data": {
      "text/html": [
       "<style  type=\"text/css\" >\n",
       "    #T_3f0218da_33ec_11e8_ab0a_8cdcd442aaa0row0_col6 {\n",
       "            background-color:  #FFC900;\n",
       "        }    #T_3f0218da_33ec_11e8_ab0a_8cdcd442aaa0row1_col9 {\n",
       "            background-color:  #FFC900;\n",
       "        }    #T_3f0218da_33ec_11e8_ab0a_8cdcd442aaa0row2_col8 {\n",
       "            background-color:  #FFC900;\n",
       "        }    #T_3f0218da_33ec_11e8_ab0a_8cdcd442aaa0row3_col7 {\n",
       "            background-color:  #FFC900;\n",
       "        }    #T_3f0218da_33ec_11e8_ab0a_8cdcd442aaa0row4_col5 {\n",
       "            background-color:  #FFC900;\n",
       "        }    #T_3f0218da_33ec_11e8_ab0a_8cdcd442aaa0row5_col2 {\n",
       "            background-color:  #FFC900;\n",
       "        }    #T_3f0218da_33ec_11e8_ab0a_8cdcd442aaa0row6_col4 {\n",
       "            background-color:  #FFC900;\n",
       "        }    #T_3f0218da_33ec_11e8_ab0a_8cdcd442aaa0row7_col3 {\n",
       "            background-color:  #FFC900;\n",
       "        }    #T_3f0218da_33ec_11e8_ab0a_8cdcd442aaa0row8_col1 {\n",
       "            background-color:  #FFC900;\n",
       "        }    #T_3f0218da_33ec_11e8_ab0a_8cdcd442aaa0row9_col0 {\n",
       "            background-color:  #FFC900;\n",
       "        }</style>  \n",
       "<table id=\"T_3f0218da_33ec_11e8_ab0a_8cdcd442aaa0\" > \n",
       "<thead>    <tr> \n",
       "        <th class=\"blank level0\" ></th> \n",
       "        <th class=\"col_heading level0 col0\" >0</th> \n",
       "        <th class=\"col_heading level0 col1\" >1</th> \n",
       "        <th class=\"col_heading level0 col2\" >2</th> \n",
       "        <th class=\"col_heading level0 col3\" >3</th> \n",
       "        <th class=\"col_heading level0 col4\" >4</th> \n",
       "        <th class=\"col_heading level0 col5\" >5</th> \n",
       "        <th class=\"col_heading level0 col6\" >6</th> \n",
       "        <th class=\"col_heading level0 col7\" >7</th> \n",
       "        <th class=\"col_heading level0 col8\" >8</th> \n",
       "        <th class=\"col_heading level0 col9\" >9</th> \n",
       "    </tr></thead> \n",
       "<tbody>    <tr> \n",
       "        <th id=\"T_3f0218da_33ec_11e8_ab0a_8cdcd442aaa0\" class=\"row_heading level0 row0\" >0</th> \n",
       "        <td id=\"T_3f0218da_33ec_11e8_ab0a_8cdcd442aaa0row0_col0\" class=\"data row0 col0\" >366</td> \n",
       "        <td id=\"T_3f0218da_33ec_11e8_ab0a_8cdcd442aaa0row0_col1\" class=\"data row0 col1\" >189</td> \n",
       "        <td id=\"T_3f0218da_33ec_11e8_ab0a_8cdcd442aaa0row0_col2\" class=\"data row0 col2\" >435</td> \n",
       "        <td id=\"T_3f0218da_33ec_11e8_ab0a_8cdcd442aaa0row0_col3\" class=\"data row0 col3\" >516</td> \n",
       "        <td id=\"T_3f0218da_33ec_11e8_ab0a_8cdcd442aaa0row0_col4\" class=\"data row0 col4\" >606</td> \n",
       "        <td id=\"T_3f0218da_33ec_11e8_ab0a_8cdcd442aaa0row0_col5\" class=\"data row0 col5\" >774</td> \n",
       "        <td id=\"T_3f0218da_33ec_11e8_ab0a_8cdcd442aaa0row0_col6\" class=\"data row0 col6\" >10</td> \n",
       "        <td id=\"T_3f0218da_33ec_11e8_ab0a_8cdcd442aaa0row0_col7\" class=\"data row0 col7\" >136</td> \n",
       "        <td id=\"T_3f0218da_33ec_11e8_ab0a_8cdcd442aaa0row0_col8\" class=\"data row0 col8\" >312</td> \n",
       "        <td id=\"T_3f0218da_33ec_11e8_ab0a_8cdcd442aaa0row0_col9\" class=\"data row0 col9\" >491</td> \n",
       "    </tr>    <tr> \n",
       "        <th id=\"T_3f0218da_33ec_11e8_ab0a_8cdcd442aaa0\" class=\"row_heading level0 row1\" >1</th> \n",
       "        <td id=\"T_3f0218da_33ec_11e8_ab0a_8cdcd442aaa0row1_col0\" class=\"data row1 col0\" >142</td> \n",
       "        <td id=\"T_3f0218da_33ec_11e8_ab0a_8cdcd442aaa0row1_col1\" class=\"data row1 col1\" >928</td> \n",
       "        <td id=\"T_3f0218da_33ec_11e8_ab0a_8cdcd442aaa0row1_col2\" class=\"data row1 col2\" >577</td> \n",
       "        <td id=\"T_3f0218da_33ec_11e8_ab0a_8cdcd442aaa0row1_col3\" class=\"data row1 col3\" >278</td> \n",
       "        <td id=\"T_3f0218da_33ec_11e8_ab0a_8cdcd442aaa0row1_col4\" class=\"data row1 col4\" >485</td> \n",
       "        <td id=\"T_3f0218da_33ec_11e8_ab0a_8cdcd442aaa0row1_col5\" class=\"data row1 col5\" >64</td> \n",
       "        <td id=\"T_3f0218da_33ec_11e8_ab0a_8cdcd442aaa0row1_col6\" class=\"data row1 col6\" >844</td> \n",
       "        <td id=\"T_3f0218da_33ec_11e8_ab0a_8cdcd442aaa0row1_col7\" class=\"data row1 col7\" >316</td> \n",
       "        <td id=\"T_3f0218da_33ec_11e8_ab0a_8cdcd442aaa0row1_col8\" class=\"data row1 col8\" >545</td> \n",
       "        <td id=\"T_3f0218da_33ec_11e8_ab0a_8cdcd442aaa0row1_col9\" class=\"data row1 col9\" >127</td> \n",
       "    </tr>    <tr> \n",
       "        <th id=\"T_3f0218da_33ec_11e8_ab0a_8cdcd442aaa0\" class=\"row_heading level0 row2\" >2</th> \n",
       "        <td id=\"T_3f0218da_33ec_11e8_ab0a_8cdcd442aaa0row2_col0\" class=\"data row2 col0\" >496</td> \n",
       "        <td id=\"T_3f0218da_33ec_11e8_ab0a_8cdcd442aaa0row2_col1\" class=\"data row2 col1\" >175</td> \n",
       "        <td id=\"T_3f0218da_33ec_11e8_ab0a_8cdcd442aaa0row2_col2\" class=\"data row2 col2\" >542</td> \n",
       "        <td id=\"T_3f0218da_33ec_11e8_ab0a_8cdcd442aaa0row2_col3\" class=\"data row2 col3\" >945</td> \n",
       "        <td id=\"T_3f0218da_33ec_11e8_ab0a_8cdcd442aaa0row2_col4\" class=\"data row2 col4\" >312</td> \n",
       "        <td id=\"T_3f0218da_33ec_11e8_ab0a_8cdcd442aaa0row2_col5\" class=\"data row2 col5\" >964</td> \n",
       "        <td id=\"T_3f0218da_33ec_11e8_ab0a_8cdcd442aaa0row2_col6\" class=\"data row2 col6\" >691</td> \n",
       "        <td id=\"T_3f0218da_33ec_11e8_ab0a_8cdcd442aaa0row2_col7\" class=\"data row2 col7\" >745</td> \n",
       "        <td id=\"T_3f0218da_33ec_11e8_ab0a_8cdcd442aaa0row2_col8\" class=\"data row2 col8\" >230</td> \n",
       "        <td id=\"T_3f0218da_33ec_11e8_ab0a_8cdcd442aaa0row2_col9\" class=\"data row2 col9\" >465</td> \n",
       "    </tr>    <tr> \n",
       "        <th id=\"T_3f0218da_33ec_11e8_ab0a_8cdcd442aaa0\" class=\"row_heading level0 row3\" >3</th> \n",
       "        <td id=\"T_3f0218da_33ec_11e8_ab0a_8cdcd442aaa0row3_col0\" class=\"data row3 col0\" >995</td> \n",
       "        <td id=\"T_3f0218da_33ec_11e8_ab0a_8cdcd442aaa0row3_col1\" class=\"data row3 col1\" >953</td> \n",
       "        <td id=\"T_3f0218da_33ec_11e8_ab0a_8cdcd442aaa0row3_col2\" class=\"data row3 col2\" >92</td> \n",
       "        <td id=\"T_3f0218da_33ec_11e8_ab0a_8cdcd442aaa0row3_col3\" class=\"data row3 col3\" >250</td> \n",
       "        <td id=\"T_3f0218da_33ec_11e8_ab0a_8cdcd442aaa0row3_col4\" class=\"data row3 col4\" >747</td> \n",
       "        <td id=\"T_3f0218da_33ec_11e8_ab0a_8cdcd442aaa0row3_col5\" class=\"data row3 col5\" >920</td> \n",
       "        <td id=\"T_3f0218da_33ec_11e8_ab0a_8cdcd442aaa0row3_col6\" class=\"data row3 col6\" >147</td> \n",
       "        <td id=\"T_3f0218da_33ec_11e8_ab0a_8cdcd442aaa0row3_col7\" class=\"data row3 col7\" >85</td> \n",
       "        <td id=\"T_3f0218da_33ec_11e8_ab0a_8cdcd442aaa0row3_col8\" class=\"data row3 col8\" >966</td> \n",
       "        <td id=\"T_3f0218da_33ec_11e8_ab0a_8cdcd442aaa0row3_col9\" class=\"data row3 col9\" >94</td> \n",
       "    </tr>    <tr> \n",
       "        <th id=\"T_3f0218da_33ec_11e8_ab0a_8cdcd442aaa0\" class=\"row_heading level0 row4\" >4</th> \n",
       "        <td id=\"T_3f0218da_33ec_11e8_ab0a_8cdcd442aaa0row4_col0\" class=\"data row4 col0\" >241</td> \n",
       "        <td id=\"T_3f0218da_33ec_11e8_ab0a_8cdcd442aaa0row4_col1\" class=\"data row4 col1\" >96</td> \n",
       "        <td id=\"T_3f0218da_33ec_11e8_ab0a_8cdcd442aaa0row4_col2\" class=\"data row4 col2\" >86</td> \n",
       "        <td id=\"T_3f0218da_33ec_11e8_ab0a_8cdcd442aaa0row4_col3\" class=\"data row4 col3\" >652</td> \n",
       "        <td id=\"T_3f0218da_33ec_11e8_ab0a_8cdcd442aaa0row4_col4\" class=\"data row4 col4\" >675</td> \n",
       "        <td id=\"T_3f0218da_33ec_11e8_ab0a_8cdcd442aaa0row4_col5\" class=\"data row4 col5\" >65</td> \n",
       "        <td id=\"T_3f0218da_33ec_11e8_ab0a_8cdcd442aaa0row4_col6\" class=\"data row4 col6\" >300</td> \n",
       "        <td id=\"T_3f0218da_33ec_11e8_ab0a_8cdcd442aaa0row4_col7\" class=\"data row4 col7\" >183</td> \n",
       "        <td id=\"T_3f0218da_33ec_11e8_ab0a_8cdcd442aaa0row4_col8\" class=\"data row4 col8\" >849</td> \n",
       "        <td id=\"T_3f0218da_33ec_11e8_ab0a_8cdcd442aaa0row4_col9\" class=\"data row4 col9\" >252</td> \n",
       "    </tr>    <tr> \n",
       "        <th id=\"T_3f0218da_33ec_11e8_ab0a_8cdcd442aaa0\" class=\"row_heading level0 row5\" >5</th> \n",
       "        <td id=\"T_3f0218da_33ec_11e8_ab0a_8cdcd442aaa0row5_col0\" class=\"data row5 col0\" >359</td> \n",
       "        <td id=\"T_3f0218da_33ec_11e8_ab0a_8cdcd442aaa0row5_col1\" class=\"data row5 col1\" >613</td> \n",
       "        <td id=\"T_3f0218da_33ec_11e8_ab0a_8cdcd442aaa0row5_col2\" class=\"data row5 col2\" >34</td> \n",
       "        <td id=\"T_3f0218da_33ec_11e8_ab0a_8cdcd442aaa0row5_col3\" class=\"data row5 col3\" >766</td> \n",
       "        <td id=\"T_3f0218da_33ec_11e8_ab0a_8cdcd442aaa0row5_col4\" class=\"data row5 col4\" >464</td> \n",
       "        <td id=\"T_3f0218da_33ec_11e8_ab0a_8cdcd442aaa0row5_col5\" class=\"data row5 col5\" >299</td> \n",
       "        <td id=\"T_3f0218da_33ec_11e8_ab0a_8cdcd442aaa0row5_col6\" class=\"data row5 col6\" >323</td> \n",
       "        <td id=\"T_3f0218da_33ec_11e8_ab0a_8cdcd442aaa0row5_col7\" class=\"data row5 col7\" >647</td> \n",
       "        <td id=\"T_3f0218da_33ec_11e8_ab0a_8cdcd442aaa0row5_col8\" class=\"data row5 col8\" >346</td> \n",
       "        <td id=\"T_3f0218da_33ec_11e8_ab0a_8cdcd442aaa0row5_col9\" class=\"data row5 col9\" >261</td> \n",
       "    </tr>    <tr> \n",
       "        <th id=\"T_3f0218da_33ec_11e8_ab0a_8cdcd442aaa0\" class=\"row_heading level0 row6\" >6</th> \n",
       "        <td id=\"T_3f0218da_33ec_11e8_ab0a_8cdcd442aaa0row6_col0\" class=\"data row6 col0\" >836</td> \n",
       "        <td id=\"T_3f0218da_33ec_11e8_ab0a_8cdcd442aaa0row6_col1\" class=\"data row6 col1\" >709</td> \n",
       "        <td id=\"T_3f0218da_33ec_11e8_ab0a_8cdcd442aaa0row6_col2\" class=\"data row6 col2\" >424</td> \n",
       "        <td id=\"T_3f0218da_33ec_11e8_ab0a_8cdcd442aaa0row6_col3\" class=\"data row6 col3\" >571</td> \n",
       "        <td id=\"T_3f0218da_33ec_11e8_ab0a_8cdcd442aaa0row6_col4\" class=\"data row6 col4\" >3</td> \n",
       "        <td id=\"T_3f0218da_33ec_11e8_ab0a_8cdcd442aaa0row6_col5\" class=\"data row6 col5\" >947</td> \n",
       "        <td id=\"T_3f0218da_33ec_11e8_ab0a_8cdcd442aaa0row6_col6\" class=\"data row6 col6\" >621</td> \n",
       "        <td id=\"T_3f0218da_33ec_11e8_ab0a_8cdcd442aaa0row6_col7\" class=\"data row6 col7\" >853</td> \n",
       "        <td id=\"T_3f0218da_33ec_11e8_ab0a_8cdcd442aaa0row6_col8\" class=\"data row6 col8\" >248</td> \n",
       "        <td id=\"T_3f0218da_33ec_11e8_ab0a_8cdcd442aaa0row6_col9\" class=\"data row6 col9\" >975</td> \n",
       "    </tr>    <tr> \n",
       "        <th id=\"T_3f0218da_33ec_11e8_ab0a_8cdcd442aaa0\" class=\"row_heading level0 row7\" >7</th> \n",
       "        <td id=\"T_3f0218da_33ec_11e8_ab0a_8cdcd442aaa0row7_col0\" class=\"data row7 col0\" >823</td> \n",
       "        <td id=\"T_3f0218da_33ec_11e8_ab0a_8cdcd442aaa0row7_col1\" class=\"data row7 col1\" >318</td> \n",
       "        <td id=\"T_3f0218da_33ec_11e8_ab0a_8cdcd442aaa0row7_col2\" class=\"data row7 col2\" >627</td> \n",
       "        <td id=\"T_3f0218da_33ec_11e8_ab0a_8cdcd442aaa0row7_col3\" class=\"data row7 col3\" >205</td> \n",
       "        <td id=\"T_3f0218da_33ec_11e8_ab0a_8cdcd442aaa0row7_col4\" class=\"data row7 col4\" >705</td> \n",
       "        <td id=\"T_3f0218da_33ec_11e8_ab0a_8cdcd442aaa0row7_col5\" class=\"data row7 col5\" >313</td> \n",
       "        <td id=\"T_3f0218da_33ec_11e8_ab0a_8cdcd442aaa0row7_col6\" class=\"data row7 col6\" >750</td> \n",
       "        <td id=\"T_3f0218da_33ec_11e8_ab0a_8cdcd442aaa0row7_col7\" class=\"data row7 col7\" >63</td> \n",
       "        <td id=\"T_3f0218da_33ec_11e8_ab0a_8cdcd442aaa0row7_col8\" class=\"data row7 col8\" >877</td> \n",
       "        <td id=\"T_3f0218da_33ec_11e8_ab0a_8cdcd442aaa0row7_col9\" class=\"data row7 col9\" >818</td> \n",
       "    </tr>    <tr> \n",
       "        <th id=\"T_3f0218da_33ec_11e8_ab0a_8cdcd442aaa0\" class=\"row_heading level0 row8\" >8</th> \n",
       "        <td id=\"T_3f0218da_33ec_11e8_ab0a_8cdcd442aaa0row8_col0\" class=\"data row8 col0\" >145</td> \n",
       "        <td id=\"T_3f0218da_33ec_11e8_ab0a_8cdcd442aaa0row8_col1\" class=\"data row8 col1\" >57</td> \n",
       "        <td id=\"T_3f0218da_33ec_11e8_ab0a_8cdcd442aaa0row8_col2\" class=\"data row8 col2\" >151</td> \n",
       "        <td id=\"T_3f0218da_33ec_11e8_ab0a_8cdcd442aaa0row8_col3\" class=\"data row8 col3\" >334</td> \n",
       "        <td id=\"T_3f0218da_33ec_11e8_ab0a_8cdcd442aaa0row8_col4\" class=\"data row8 col4\" >168</td> \n",
       "        <td id=\"T_3f0218da_33ec_11e8_ab0a_8cdcd442aaa0row8_col5\" class=\"data row8 col5\" >838</td> \n",
       "        <td id=\"T_3f0218da_33ec_11e8_ab0a_8cdcd442aaa0row8_col6\" class=\"data row8 col6\" >288</td> \n",
       "        <td id=\"T_3f0218da_33ec_11e8_ab0a_8cdcd442aaa0row8_col7\" class=\"data row8 col7\" >990</td> \n",
       "        <td id=\"T_3f0218da_33ec_11e8_ab0a_8cdcd442aaa0row8_col8\" class=\"data row8 col8\" >785</td> \n",
       "        <td id=\"T_3f0218da_33ec_11e8_ab0a_8cdcd442aaa0row8_col9\" class=\"data row8 col9\" >948</td> \n",
       "    </tr>    <tr> \n",
       "        <th id=\"T_3f0218da_33ec_11e8_ab0a_8cdcd442aaa0\" class=\"row_heading level0 row9\" >9</th> \n",
       "        <td id=\"T_3f0218da_33ec_11e8_ab0a_8cdcd442aaa0row9_col0\" class=\"data row9 col0\" >186</td> \n",
       "        <td id=\"T_3f0218da_33ec_11e8_ab0a_8cdcd442aaa0row9_col1\" class=\"data row9 col1\" >312</td> \n",
       "        <td id=\"T_3f0218da_33ec_11e8_ab0a_8cdcd442aaa0row9_col2\" class=\"data row9 col2\" >133</td> \n",
       "        <td id=\"T_3f0218da_33ec_11e8_ab0a_8cdcd442aaa0row9_col3\" class=\"data row9 col3\" >774</td> \n",
       "        <td id=\"T_3f0218da_33ec_11e8_ab0a_8cdcd442aaa0row9_col4\" class=\"data row9 col4\" >233</td> \n",
       "        <td id=\"T_3f0218da_33ec_11e8_ab0a_8cdcd442aaa0row9_col5\" class=\"data row9 col5\" >764</td> \n",
       "        <td id=\"T_3f0218da_33ec_11e8_ab0a_8cdcd442aaa0row9_col6\" class=\"data row9 col6\" >566</td> \n",
       "        <td id=\"T_3f0218da_33ec_11e8_ab0a_8cdcd442aaa0row9_col7\" class=\"data row9 col7\" >915</td> \n",
       "        <td id=\"T_3f0218da_33ec_11e8_ab0a_8cdcd442aaa0row9_col8\" class=\"data row9 col8\" >346</td> \n",
       "        <td id=\"T_3f0218da_33ec_11e8_ab0a_8cdcd442aaa0row9_col9\" class=\"data row9 col9\" >906</td> \n",
       "    </tr></tbody> \n",
       "</table> "
      ],
      "text/plain": [
       "<pandas.io.formats.style.Styler at 0x63869e8>"
      ]
     },
     "execution_count": 7,
     "metadata": {},
     "output_type": "execute_result"
    }
   ],
   "source": [
    "def print_affectations(couts, affectations):\n",
    "    df = pd.DataFrame(couts)\n",
    "    return df.style.apply(lambda tab: color_couts(len(couts), affectations), axis=None)\n",
    "\n",
    "def color_couts(n, affectations):\n",
    "    ar = [['']*n for i in range(n)]\n",
    "    for i, j in enumerate(affectations):\n",
    "        ar[i][j] = 'background-color: #FFC900'\n",
    "    return pd.DataFrame(ar)\n",
    "\n",
    "print_affectations(couts, noeud.affectations)"
   ]
  },
  {
   "cell_type": "markdown",
   "metadata": {},
   "source": [
    "<h3 style=\"color:#5A8E00; font-weight: bold;\">Meilleure heuristique</h3>\n",
    "<br>On est bien content d'avoir trouvé nos affectations optimales, mais encore nous faut-il déterminer quelle est l'heuristique la plus efficace. Pour cela nous allons tout simplement regarder le nombre de noeuds développés par chacune des heuristiques pour les mêmes tables de coûts. On pourra ensuite comparer ce nombre de noeuds au nombre de noeuds total que possède le GRP.\n",
    "<br><br>La fonction <span style=\"color:blue\">tailleGRP</span>(n) calcul le nombre de noeuds total d'un GRP de profondeur maximale n."
   ]
  },
  {
   "cell_type": "code",
   "execution_count": 8,
   "metadata": {
    "collapsed": true
   },
   "outputs": [],
   "source": [
    "def tailleGRP(n):\n",
    "    T = 1\n",
    "    R = n\n",
    "    for i in range(n, 1, -1):\n",
    "        T += R\n",
    "        R = R*(i-1)\n",
    "    T += R\n",
    "    return T"
   ]
  },
  {
   "cell_type": "markdown",
   "metadata": {},
   "source": [
    "Maintenant créons la fonction <span style=\"color:blue\">nb_noeuds_developpes</span>(couts, calculer_h) qui va renvoyer le nombre de noeuds développés pour la table <b style=\"color:#DB5B30\">couts</b> avec la fonction de calcul heuristique <b style=\"color:#DB5B30\">calculer_h</b>."
   ]
  },
  {
   "cell_type": "code",
   "execution_count": 9,
   "metadata": {
    "collapsed": true
   },
   "outputs": [],
   "source": [
    "def nb_noeuds_developpes(couts, calculer_h):\n",
    "    n = len(couts)\n",
    "    OUVERT = [Noeud(n, calculer_h, couts)]\n",
    "    nb_noeuds_ouverts = 1\n",
    "    while len(OUVERT) > 0:\n",
    "        noeud = heappop(OUVERT)\n",
    "        if noeud.estBut():\n",
    "            break\n",
    "        for heritier in noeud.developpe(calculer_h, couts):\n",
    "            heappush(OUVERT, heritier)\n",
    "            nb_noeuds_ouverts += 1\n",
    "    return nb_noeuds_ouverts"
   ]
  },
  {
   "cell_type": "markdown",
   "metadata": {},
   "source": [
    "Pour un certain nombre de table de couts nous allons faire la comparaison du nombre de noeuds développés pour chacune des méthodes de calcul heuristique."
   ]
  },
  {
   "cell_type": "code",
   "execution_count": 10,
   "metadata": {},
   "outputs": [
    {
     "name": "stdout",
     "output_type": "stream",
     "text": [
      "n =  5\n",
      "Somme des min des lignes ,\tNoeuds développés :  23 ,\tNoeuds développés / Noeuds total :  0.07055215\n",
      "Somme des min des colonnes ,\tNoeuds développés :  42 ,\tNoeuds développés / Noeuds total :  0.12883436\n",
      "Max des deux ,\t\t\tNoeuds développés :  23 ,\tNoeuds développés / Noeuds total :  0.07055215\n",
      "\n",
      "n =  6\n",
      "Somme des min des lignes ,\tNoeuds développés :  35 ,\tNoeuds développés / Noeuds total :  0.01788452\n",
      "Somme des min des colonnes ,\tNoeuds développés :  22 ,\tNoeuds développés / Noeuds total :  0.01124170\n",
      "Max des deux ,\t\t\tNoeuds développés :  22 ,\tNoeuds développés / Noeuds total :  0.01124170\n",
      "\n",
      "n =  7\n",
      "Somme des min des lignes ,\tNoeuds développés :  48 ,\tNoeuds développés / Noeuds total :  0.00350365\n",
      "Somme des min des colonnes ,\tNoeuds développés :  60 ,\tNoeuds développés / Noeuds total :  0.00437956\n",
      "Max des deux ,\t\t\tNoeuds développés :  48 ,\tNoeuds développés / Noeuds total :  0.00350365\n",
      "\n",
      "n =  8\n",
      "Somme des min des lignes ,\tNoeuds développés :  169 ,\tNoeuds développés / Noeuds total :  0.00154196\n",
      "Somme des min des colonnes ,\tNoeuds développés :  37 ,\tNoeuds développés / Noeuds total :  0.00033759\n",
      "Max des deux ,\t\t\tNoeuds développés :  37 ,\tNoeuds développés / Noeuds total :  0.00033759\n",
      "\n",
      "n =  9\n",
      "Somme des min des lignes ,\tNoeuds développés :  165 ,\tNoeuds développés / Noeuds total :  0.00016727\n",
      "Somme des min des colonnes ,\tNoeuds développés :  346 ,\tNoeuds développés / Noeuds total :  0.00035077\n",
      "Max des deux ,\t\t\tNoeuds développés :  144 ,\tNoeuds développés / Noeuds total :  0.00014598\n",
      "\n",
      "n =  10\n",
      "Somme des min des lignes ,\tNoeuds développés :  642 ,\tNoeuds développés / Noeuds total :  0.00006508\n",
      "Somme des min des colonnes ,\tNoeuds développés :  549 ,\tNoeuds développés / Noeuds total :  0.00005566\n",
      "Max des deux ,\t\t\tNoeuds développés :  352 ,\tNoeuds développés / Noeuds total :  0.00003568\n",
      "\n"
     ]
    }
   ],
   "source": [
    "for n in range(5, 11):\n",
    "    couts = np.random.randint(1000, size=(n, n))\n",
    "    nb_noeuds_total = tailleGRP(n)\n",
    "    print(\"n = \", n)\n",
    "    for heuristique in ['Somme des min des lignes', 'Somme des min des colonnes', 'Max des deux']:\n",
    "        set_heuristique(heuristique)\n",
    "        nb_noeuds = nb_noeuds_developpes(couts, calculer_h)\n",
    "        if heuristique == 'Max des deux': #condition rajoutée pour des raisons d'affichage\n",
    "            print(heuristique, \",\\t\\t\\tNoeuds développés : \", nb_noeuds,\n",
    "                 \",\\tNoeuds développés / Noeuds total : \", '%.8f'%(nb_noeuds/nb_noeuds_total))\n",
    "        else:\n",
    "            print(heuristique, \",\\tNoeuds développés : \", nb_noeuds,\n",
    "                 \",\\tNoeuds développés / Noeuds total : \", '%.8f'%(nb_noeuds/nb_noeuds_total))\n",
    "    print()"
   ]
  },
  {
   "cell_type": "markdown",
   "metadata": {},
   "source": [
    "On remarque donc qu'on a globalement le même dilemne en choisissant la <b style=\"color:#DB5B30\">Somme des min des lignes</b> ou la <b style=\"color:#DB5B30\">Somme des min des colonnes</b>, il y en a souvent un qui développe beaucoup plus de noeuds que l'autre. On constate aussi que c'est toujours l'heuristique <b style=\"color:#DB5B30\">Max des deux</b> qui développe le moins de noeuds. On a tout intéret à choisir cette dernière !"
   ]
  },
  {
   "cell_type": "code",
   "execution_count": null,
   "metadata": {
    "collapsed": true
   },
   "outputs": [],
   "source": []
  }
 ],
 "metadata": {
  "kernelspec": {
   "display_name": "Python 3",
   "language": "python",
   "name": "python3"
  },
  "language_info": {
   "codemirror_mode": {
    "name": "ipython",
    "version": 3
   },
   "file_extension": ".py",
   "mimetype": "text/x-python",
   "name": "python",
   "nbconvert_exporter": "python",
   "pygments_lexer": "ipython3",
   "version": "3.6.1"
  }
 },
 "nbformat": 4,
 "nbformat_minor": 2
}
